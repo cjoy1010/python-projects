{
 "cells": [
  {
   "cell_type": "code",
   "execution_count": 1,
   "id": "4ac1933b-df51-4b17-b6b8-2a5d6468b239",
   "metadata": {},
   "outputs": [],
   "source": [
    "from selenium import webdriver\n",
    "from selenium.webdriver.common.by import By"
   ]
  },
  {
   "cell_type": "code",
   "execution_count": 2,
   "id": "b61025c9-fa6d-403b-900a-3c5e0e959e8d",
   "metadata": {},
   "outputs": [],
   "source": [
    "driver = webdriver.Chrome()\n",
    "\n",
    "url= \"https://www.umb.edu/academics/program-finder/\"\n",
    "driver.get(url)\n",
    "driver.maximize_window()"
   ]
  },
  {
   "cell_type": "code",
   "execution_count": 3,
   "id": "261dafe7-7590-4992-8638-0b1b39217f13",
   "metadata": {},
   "outputs": [],
   "source": [
    "collected_programs = []\n",
    "\n",
    "# Collect program names from the page\n",
    "programs = driver.find_elements(By.CSS_SELECTOR, 'h2.program__name')\n",
    "for program in programs:\n",
    "    collected_programs.append(program.text)  # Get the program name text"
   ]
  },
  {
   "cell_type": "code",
   "execution_count": 5,
   "id": "12aa6a76-7c25-4f2b-a50e-5be5b5b2bc9f",
   "metadata": {},
   "outputs": [
    {
     "name": "stdout",
     "output_type": "stream",
     "text": [
      "Accelerated Bachelor of Science in Nursing (Bachelor's)\n",
      "Accounting BS (Bachelor's)\n",
      "Accounting with Data Analytics MS (Master's)\n",
      "Addictions Counselor Educational Program (Professional Development)\n",
      "Africana Studies BA (Bachelor's)\n",
      "Africana Studies Minor (Minor)\n",
      "Aging Studies BA (Bachelor's)\n",
      "Aging Studies Minor (Minor)\n",
      "American Studies BA (Bachelor's)\n",
      "American Studies MA (Master's)\n",
      "American Studies Minor (Minor)\n",
      "Anthropology BA (Bachelor's)\n",
      "Anthropology Minor (Minor)\n",
      "Applied Behavior Analysis for Special Populations Certificate (Graduate Certificate)\n",
      "Applied Economics MA (Master's)\n",
      "Applied Linguistics MA (Master's)\n",
      "Applied Linguistics PhD (Doctorate)\n",
      "Applied Physics MS (Master's)\n",
      "Applied Physics PhD (Doctorate)\n",
      "Applied Sociology MA (Master's)\n"
     ]
    }
   ],
   "source": [
    "for name in collected_programs:\n",
    "    print(name)  # Print each program name"
   ]
  },
  {
   "cell_type": "code",
   "execution_count": null,
   "id": "309f5a57-9b62-4993-9dd6-b8325d5ef860",
   "metadata": {},
   "outputs": [],
   "source": []
  }
 ],
 "metadata": {
  "kernelspec": {
   "display_name": "Python 3 (ipykernel)",
   "language": "python",
   "name": "python3"
  },
  "language_info": {
   "codemirror_mode": {
    "name": "ipython",
    "version": 3
   },
   "file_extension": ".py",
   "mimetype": "text/x-python",
   "name": "python",
   "nbconvert_exporter": "python",
   "pygments_lexer": "ipython3",
   "version": "3.12.4"
  }
 },
 "nbformat": 4,
 "nbformat_minor": 5
}
